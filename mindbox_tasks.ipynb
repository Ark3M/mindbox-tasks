{
 "cells": [
  {
   "cell_type": "code",
   "execution_count": 1,
   "metadata": {
    "collapsed": true,
    "pycharm": {
     "name": "#%%\n"
    }
   },
   "outputs": [],
   "source": [
    "from collections import Counter\n",
    "import pandas as pd\n",
    "import random"
   ]
  },
  {
   "cell_type": "code",
   "execution_count": 2,
   "outputs": [],
   "source": [
    "def create_customers_ids(n_customers: int, id_length: int, spec_number: int) -> list[str]:\n",
    "    assert id_length >= 2, \"An ID length should be >= 2\"\n",
    "    assert len(str(spec_number)) < id_length, \"The first number of ID should be < ID length\"\n",
    "\n",
    "    customers_ids = []\n",
    "    #chars = list(set(string.digits))  # Variable for case in which we want to generate random IDs.\n",
    "\n",
    "    for i in range(1, n_customers + 1):  # Customer number starts from 1.\n",
    "        zeros = id_length - len(str(i)) - len(str(spec_number))\n",
    "        customer_id = \"{}{}{}\".format(str(spec_number), \"\".join([str(0) for i in range(zeros)]), str(i))\n",
    "        #customer_id = str(spec_digit) + \"\".join(random.choices(chars, k=id_length))  # Create random IDs\n",
    "        # with length = id_length.\n",
    "        customers_ids.append(customer_id)\n",
    "    return customers_ids\n",
    "\n",
    "\n",
    "def create_groups_numbers(customers_ids: list[str]) -> list[int]:\n",
    "    groups_numbers = []\n",
    "\n",
    "    for id in customers_ids:\n",
    "        groups_numbers.append(sum(map(int, id)))\n",
    "    return groups_numbers\n",
    "\n",
    "\n",
    "def add_customers_in_group(customers_ids: list[str], groups_numbers: list[int]) -> pd.DataFrame:\n",
    "    data = {\"customer_ID\": customers_ids,\n",
    "            \"group_number\": groups_numbers}\n",
    "\n",
    "    customers = pd.DataFrame(data=data)\n",
    "    group_customers_counts = customers[\"group_number\"].value_counts()\n",
    "    group_customers = customers[\"group_number\"].apply(lambda x: group_customers_counts[x])\n",
    "    customers.insert(2, \"customers_in_group\", group_customers)\n",
    "    return customers\n",
    "\n",
    "\n",
    "# Task 1. ID starts from zero.\n",
    "def count_customers_zeros(n_customers: int) -> dict and pd.DataFrame:\n",
    "    customers_ids = create_customers_ids(n_customers, id_length, spec_number=0)\n",
    "    assert spec_digit == 0, \"The first number of ID should be 0\"\n",
    "\n",
    "    groups_numbers = create_groups_numbers(customers_ids)\n",
    "    customers = add_customers_in_group(customers_ids, groups_numbers)\n",
    "    return dict(Counter(groups_numbers)), customers  # You can choose what you want.\n",
    "\n",
    "\n",
    "# Task 2. ID starts from specified number.\n",
    "def count_customers_spec(n_customers: int, n_first_id: int) -> dict and pd.DataFrame:\n",
    "    customers_ids = create_customers_ids(n_customers, id_length, spec_number=n_first_id)\n",
    "    groups_numbers = create_groups_numbers(customers_ids)\n",
    "    customers = add_customers_in_group(customers_ids, groups_numbers)\n",
    "    return dict(Counter(groups_numbers)), customers  # You can choose what you want."
   ],
   "metadata": {
    "collapsed": false,
    "pycharm": {
     "name": "#%%\n"
    }
   }
  },
  {
   "cell_type": "code",
   "execution_count": 7,
   "outputs": [
    {
     "name": "stdout",
     "output_type": "stream",
     "text": [
      "Enter number of customers:\n",
      "Entered number is 10\n",
      "\n",
      "Enter minimum desired length of ID, but remember that:\n",
      "1. In the first task ID starts from 0.\n",
      "2. In the second task ID starts from entered digit.\n",
      "Entered length is 5\n",
      "\n",
      "Enter the first number of ID:\n",
      "Entered number is 10\n",
      "\n",
      "---Output---\n",
      "Customers in each group (dict):\n",
      " {2: 2, 3: 1, 4: 1, 5: 1, 6: 1, 7: 1, 8: 1, 9: 1, 10: 1}\n",
      "\n",
      "Customers in each group (DataFrame):\n",
      "   customer_ID  group_number  customers_in_group\n",
      "0       10001             2                   2\n",
      "1       10002             3                   1\n",
      "2       10003             4                   1\n",
      "3       10004             5                   1\n",
      "4       10005             6                   1\n",
      "5       10006             7                   1\n",
      "6       10007             8                   1\n",
      "7       10008             9                   1\n",
      "8       10009            10                   1\n",
      "9       10010             2                   2\n"
     ]
    }
   ],
   "source": [
    "#n_customers = random.randint(1, 100)  # For instance. You can set any integer value from 1 to N.\n",
    "#id_length = random.randint(5, 7)  # Generate a random ID length in range from 5 to 7.\n",
    "\n",
    "print(\"Enter number of customers:\")\n",
    "n_customers = int(input())\n",
    "print(\"Entered number is\", n_customers)\n",
    "print()\n",
    "\n",
    "print(\"Enter minimum desired length of ID, but remember that:\\n\"\n",
    "      \"1. In the first task ID starts from 0.\\n\"\n",
    "      \"2. In the second task ID starts from entered digit.\")\n",
    "id_length = int(input())\n",
    "print(\"Entered length is\", id_length)\n",
    "print()\n",
    "\n",
    "print(\"Enter the first number of ID:\")\n",
    "spec_number = int(input())\n",
    "print(\"Entered number is\", spec_number)\n",
    "\n",
    "print(\"\\n---Output---\")\n",
    "print(\"Customers in each group (dict):\\n\", count_customers_spec(n_customers, n_first_id=spec_number)[0])\n",
    "print()\n",
    "print(\"Customers in each group (DataFrame):\\n\", count_customers_spec(n_customers, n_first_id=spec_number)[1])\n"
   ],
   "metadata": {
    "collapsed": false,
    "pycharm": {
     "name": "#%%\n"
    }
   }
  },
  {
   "cell_type": "code",
   "execution_count": null,
   "outputs": [],
   "source": [],
   "metadata": {
    "collapsed": false,
    "pycharm": {
     "name": "#%%\n"
    }
   }
  }
 ],
 "metadata": {
  "kernelspec": {
   "display_name": "Python 3",
   "language": "python",
   "name": "python3"
  },
  "language_info": {
   "codemirror_mode": {
    "name": "ipython",
    "version": 2
   },
   "file_extension": ".py",
   "mimetype": "text/x-python",
   "name": "python",
   "nbconvert_exporter": "python",
   "pygments_lexer": "ipython2",
   "version": "2.7.6"
  }
 },
 "nbformat": 4,
 "nbformat_minor": 0
}